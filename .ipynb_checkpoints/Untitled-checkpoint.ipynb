{
 "cells": [
  {
   "cell_type": "code",
   "execution_count": 1,
   "metadata": {},
   "outputs": [],
   "source": [
    "import urllib.request\n",
    "from bs4 import BeautifulSoup\n",
    "import re\n",
    "import pandas as pd\n",
    "from selenium  import webdriver"
   ]
  },
  {
   "cell_type": "code",
   "execution_count": 2,
   "metadata": {},
   "outputs": [],
   "source": [
    "# Tripadvisor\n",
    "url = 'https://www.tripadvisor.co.id/'\n",
    "location = 'Bekasi'\n",
    "\n",
    "# Perform the request\n",
    "webpage = urllib.request.urlopen(url).read().decode('utf-8')\n",
    "\n",
    "# Find object\n",
    "search_box = re.findall(r'<form class=\"R1IsnpX3\" action=\"/Search\">(.*?)<button', webpage)\n",
    "sessionId = re.findall(r'name=\"searchSessionId\" value=\"(.*?)\"/><input type', str(search_box[0]))\n",
    "\n",
    "# https://www.tripadvisor.co.id/Search?q=Bekasi&searchSessionId=FEBF55EFA14810EA534F7291C7B4246B1614757401088ssid&searchNearby=false&sid=CF06567932864E8686E351F02E79FF691614757419293&blockRedirect=true\n",
    "search_location = url+'Search?q='+location+'&searchSessionId='+sessionId[0]+'&searchNearby=false'"
   ]
  },
  {
   "cell_type": "code",
   "execution_count": 24,
   "metadata": {},
   "outputs": [],
   "source": [
    "# Define object Hotel\n",
    "driver = webdriver.Chrome(executable_path='C:\\Software\\chromedriver_win32\\chromedriver.exe')\n",
    "driver.get(search_location)\n",
    "tab_filter = driver.find_element_by_xpath(\"/html/body//div[@class='ui_tabs large']\")\n",
    "tab_filter.find_element_by_css_selector('a[data-tab-name=\"Hotel\"]').click()\n",
    "\n",
    "search_location = driver.current_url\n",
    "\n",
    "# links = driver.find_element_by_xpath(\"\").text\n",
    "\n",
    "driver.close()"
   ]
  },
  {
   "cell_type": "code",
   "execution_count": 25,
   "metadata": {},
   "outputs": [
    {
     "data": {
      "text/plain": [
       "'https://www.tripadvisor.co.id/Search?q=Bekasi&searchSessionId=CD3DC24CB0AE5AEEE7D510BE8FDC0F891614823647007ssid&searchNearby=false&sid=61DE319C24474984B33F391B0E5D72E31614823670789&blockRedirect=true&ssrc=h&rf=12'"
      ]
     },
     "execution_count": 25,
     "metadata": {},
     "output_type": "execute_result"
    }
   ],
   "source": [
    "search_location"
   ]
  },
  {
   "cell_type": "code",
   "execution_count": 26,
   "metadata": {},
   "outputs": [],
   "source": [
    "# List Hotel\n",
    "\n",
    "# Perform the request\n",
    "list_hotel = urllib.request.urlopen(search_location).read().decode('utf-8')\n",
    "\n",
    "# name_hotel = re.findall(r'', list_hotel)\n",
    "# find_hotel = re.findall(r'<div class=\"listing_title\"><a target=\"_blank\" href=\"(.*?)\"', list_hotel)"
   ]
  },
  {
   "cell_type": "code",
   "execution_count": 29,
   "metadata": {},
   "outputs": [],
   "source": [
    "import sys\n",
    "list_hotel = open('log.txt', 'w')"
   ]
  },
  {
   "cell_type": "code",
   "execution_count": 117,
   "metadata": {},
   "outputs": [],
   "source": [
    "get_name_hotel = []\n",
    "for i in range(0,len(name_hotel)):\n",
    "    get_name_hotel.append(name_hotel[i][1].strip())"
   ]
  },
  {
   "cell_type": "code",
   "execution_count": 118,
   "metadata": {},
   "outputs": [
    {
     "data": {
      "text/plain": [
       "['Grand Kangen Hotel Urip Sumoharjo',\n",
       " 'Satoria Hotel Yogyakarta',\n",
       " 'Eastparc Hotel Yogyakarta',\n",
       " 'KJ Hotel Yogyakarta',\n",
       " 'The Alana Hotel &amp; Conference Center Malioboro Yogyakarta by ASTON',\n",
       " 'Greenhost Boutique Hotel',\n",
       " 'Jambuluwuk Malioboro Yogyakarta Hotel',\n",
       " 'Artotel Yogyakarta',\n",
       " 'Grand Tjokro Yogyakarta',\n",
       " 'Indies Heritage Hotel',\n",
       " 'The Rich Jogja Hotel',\n",
       " 'Él Hotel Royale Yogyakarta Malioboro',\n",
       " '@HOM Premiere Timoho Jogjakarta',\n",
       " 'Swiss-Belboutique Yogyakarta',\n",
       " 'LYNN Hotel By Horison',\n",
       " 'Adhisthana Hotel Yogyakarta',\n",
       " 'Tjokro Style Yogyakarta',\n",
       " 'Yellow Star Hotel Gejayan',\n",
       " 'Zest Hotel Yogyakarta',\n",
       " 'Core Hotel Yogyakarta',\n",
       " 'Grand Sarila Yogyakarta',\n",
       " 'Aveon Hotel Yogyakarta by Daphna International',\n",
       " 'POP! Hotel Timoho',\n",
       " 'Hotel Horaios Malioboro Yogyakarta',\n",
       " 'Grand Serela Hotel Yogyakarta',\n",
       " 'Indoluxe Rent Apartment',\n",
       " 'Hotel Citradream Yogyakarta',\n",
       " 'Ayaartta Hotel Malioboro',\n",
       " 'Sahid Raya Hotel &amp; Convention Yogyakarta',\n",
       " 'Sakanti Malioboro Hotel']"
      ]
     },
     "execution_count": 118,
     "metadata": {},
     "output_type": "execute_result"
    }
   ],
   "source": [
    "get_name_hotel"
   ]
  },
  {
   "cell_type": "code",
   "execution_count": 30,
   "metadata": {},
   "outputs": [
    {
     "ename": "NameError",
     "evalue": "name 'find_hotel' is not defined",
     "output_type": "error",
     "traceback": [
      "\u001b[1;31m---------------------------------------------------------------------------\u001b[0m",
      "\u001b[1;31mNameError\u001b[0m                                 Traceback (most recent call last)",
      "\u001b[1;32m<ipython-input-30-dfc563d63a2a>\u001b[0m in \u001b[0;36m<module>\u001b[1;34m\u001b[0m\n\u001b[1;32m----> 1\u001b[1;33m \u001b[0mfind_hotel\u001b[0m\u001b[1;33m[\u001b[0m\u001b[1;36m0\u001b[0m\u001b[1;33m]\u001b[0m\u001b[1;33m\u001b[0m\u001b[1;33m\u001b[0m\u001b[0m\n\u001b[0m",
      "\u001b[1;31mNameError\u001b[0m: name 'find_hotel' is not defined"
     ]
    }
   ],
   "source": [
    "find_hotel[0]"
   ]
  },
  {
   "cell_type": "code",
   "execution_count": 128,
   "metadata": {},
   "outputs": [],
   "source": [
    "# Get Review Hotel\n",
    "\n",
    "base = 'https://www.tripadvisor.co.id'\n",
    "\n",
    "result = []\n",
    "for i in range(0,3):\n",
    "    hotel = get_name_hotel[i]\n",
    "    url = find_hotel[i]\n",
    "    base_url = base+url\n",
    "\n",
    "    # Perform the request\n",
    "    list_review = urllib.request.urlopen(base_url).read().decode('utf-8')\n",
    "    find_review = re.findall(r'<q class=\"IRsGHoPm\"><span>(.*?)</span></q>', list_review)\n",
    "    find_review = ' '.join(find_review)\n",
    "    result = hotel+\";\"+find_review"
   ]
  },
  {
   "cell_type": "code",
   "execution_count": null,
   "metadata": {},
   "outputs": [],
   "source": [
    "hotel = 'https://www.tripadvisor.com/Hotel_Review-g3916131-d307076-Reviews-Hyatt_Regency_Yogyakarta-Ngaglik_Sleman_District_Yogyakarta_Region_Java.html?filterLang=en'"
   ]
  },
  {
   "cell_type": "code",
   "execution_count": null,
   "metadata": {},
   "outputs": [],
   "source": [
    "# run program\n",
    "import urllib.request\n",
    "from bs4 import BeautifulSoup\n",
    "import re\n",
    "import pandas as pd\n",
    "from selenium  import webdriver"
   ]
  },
  {
   "cell_type": "code",
   "execution_count": 45,
   "metadata": {},
   "outputs": [
    {
     "name": "stdout",
     "output_type": "stream",
     "text": [
      "[]\n",
      "https://www.tripadvisor.com/Hotel_Review-g3916131-d307076-[]Reviews-Hyatt_Regency_Yogyakarta-Ngaglik_Sleman_District_Yogyakarta_Region_Java.html?filterLang=en\n",
      "or5-\n",
      "https://www.tripadvisor.com/Hotel_Review-g3916131-d307076-or5-Reviews-Hyatt_Regency_Yogyakarta-Ngaglik_Sleman_District_Yogyakarta_Region_Java.html?filterLang=en\n",
      "or10-\n",
      "https://www.tripadvisor.com/Hotel_Review-g3916131-d307076-or10-Reviews-Hyatt_Regency_Yogyakarta-Ngaglik_Sleman_District_Yogyakarta_Region_Java.html?filterLang=en\n"
     ]
    }
   ],
   "source": [
    "# page 0-100, 101-200, 201-337\n",
    "page = []\n",
    "find_all_review = []\n",
    "page_loop = 0\n",
    "\n",
    "for i in range(0,3):\n",
    "    print(page)\n",
    "    \n",
    "#     hotel = '/Hotel_Review-g294230-d9589410-'+str(page)+'Reviews-Satoria_Hotel_Yogyakarta-Yogyakarta_Region_Java.html'\n",
    "#     base = 'https://www.tripadvisor.co.id'\n",
    "#     url = base+hotel\n",
    "\n",
    "    url = 'https://www.tripadvisor.com/Hotel_Review-g3916131-d307076-'+str(page)+'Reviews-Hyatt_Regency_Yogyakarta-Ngaglik_Sleman_District_Yogyakarta_Region_Java.html?filterLang=en'\n",
    "\n",
    "    list_review = urllib.request.urlopen(url).read().decode('utf-8')\n",
    "    find_review = re.findall(r'<q class=\"IRsGHoPm\"><span>(.*?)</span></q>', list_review)\n",
    "    for i in range(0,len(find_review)):\n",
    "        find_all_review.append(find_review[i])\n",
    "    \n",
    "    page_loop += 5\n",
    "    page = 'or'+str(page_loop)+'-'\n",
    "    \n",
    "    print(url)\n",
    "#     print(find_review)\n",
    "        \n"
   ]
  },
  {
   "cell_type": "code",
   "execution_count": 32,
   "metadata": {},
   "outputs": [
    {
     "data": {
      "text/plain": [
       "['Hotel with proper hygiene to protect against COVID-19 Staff and trainee are friendly. Great taste of breakfast and very delicious rice bowl. Bed is comfortable and comfy. - Services from the team members are excellent, especially at the restaurant. Pool and angkringan are very joyful.',\n",
       " 'We went (the whole family) for a vacation in Yogyakarta. There are many hotels to choose. Decided to stay in Hyatt Regency because of the location initially, but experiences that we got are more than what we expected, especially the facilities.',\n",
       " 'When i decided to stay here, I know its interior is dated, need renovation. But I still like to stay here in the future, because this hotel has very good staff, and has one of the best outdoor facility in this city. ',\n",
       " 'Good view and very nice swimming pool area, you can walk at the jogging track and enjoy the cool air among the trees,   Good traditional food like getuk, nice staff and good service,   You can found your peace at Hyatt Jogja.  Will be back again when visit jogja   See you soon',\n",
       " 'This hotel is very nice, especially its outdoor facilities like jogging track, bike rental and swimming pool. We can enjoy a beautiful views of a well managed garden and golf course with Merapi Mountain as a background. ',\n",
       " 'The hotel just the same like picture. Breathtaking view on the landscape. Hotel looks old but still very well maintained. Everything was function perfectly. Bed and pillow was very comfortable, even the extra bed too! We had a good sleep there and really enjoyed the facilities especially the swimming pool. Staffs are very nice, breakfast are delicious eventhough we were quite surprise that the varieties were not as much as regular buffet but we can understand that maybe during this covid time they try to manage simple breakfast but still with health protocols way. But there was one thing is quite dissapointed that we found a glass in our room was still dirty. The coffee stain still there. But overall it was a great experience staying there and will go back for sure. For those</span><span>&hellip;',\n",
       " 'Beautiful view completed with golf course, perfect for honeymoon, and the staffs really care your needs. Especially a trainee named Reza, he helped me a lot. Also, the staff gave us beautiful flowers arrangments and a surprise gift when I checked out.',\n",
       " 'Excellent services, very clean room and also already complied with the health protocol (with respect to the covid 19 protocol). We absolutely enjoy. We also like the location of this hotel. Overall excellent.',\n",
       " '3 stars is a little generous and it was the amazing staff, nice pool, and decent food that saved the review for this hotel. The rooms are very outdated and somewhat musty. I asked the staff and they said it had been 20 years since they have been renovated and it shows. The only thing worse than the rooms is the fitness center. Really just a small room with dingy carpet, two older treadmills and a few outdated weights. ',\n",
       " 'We were staying at this hotel with my 2 daughters, and took 2 rooms at regency club. Unfortunately, the hot water was not good, seems need to be improved. The bed is need to be changed (quiet old I guess), and bed linen as well. We were enjoying the breakfast, overall the menu was good. ',\n",
       " 'The hotel just the same like picture. Breathtaking view on the landscape. Hotel looks old but still very well maintained. Everything was function perfectly. Bed and pillow was very comfortable, even the extra bed too! We had a good sleep there and really enjoyed the facilities especially the swimming pool. Staffs are very nice, breakfast are delicious eventhough we were quite surprise that the varieties were not as much as regular buffet but we can understand that maybe during this covid time they try to manage simple breakfast but still with health protocols way. But there was one thing is quite dissapointed that we found a glass in our room was still dirty. The coffee stain still there. But overall it was a great experience staying there and will go back for sure. For those</span><span>&hellip;',\n",
       " 'Beautiful view completed with golf course, perfect for honeymoon, and the staffs really care your needs. Especially a trainee named Reza, he helped me a lot. Also, the staff gave us beautiful flowers arrangments and a surprise gift when I checked out.',\n",
       " 'Excellent services, very clean room and also already complied with the health protocol (with respect to the covid 19 protocol). We absolutely enjoy. We also like the location of this hotel. Overall excellent.',\n",
       " '3 stars is a little generous and it was the amazing staff, nice pool, and decent food that saved the review for this hotel. The rooms are very outdated and somewhat musty. I asked the staff and they said it had been 20 years since they have been renovated and it shows. The only thing worse than the rooms is the fitness center. Really just a small room with dingy carpet, two older treadmills and a few outdated weights. ',\n",
       " 'We were staying at this hotel with my 2 daughters, and took 2 rooms at regency club. Unfortunately, the hot water was not good, seems need to be improved. The bed is need to be changed (quiet old I guess), and bed linen as well. We were enjoying the breakfast, overall the menu was good. ']"
      ]
     },
     "execution_count": 32,
     "metadata": {},
     "output_type": "execute_result"
    }
   ],
   "source": [
    "find_all_review"
   ]
  },
  {
   "cell_type": "code",
   "execution_count": 41,
   "metadata": {},
   "outputs": [],
   "source": [
    "import pandas as pd\n",
    "data = pd.DataFrame(find_all_review)\n",
    "\n",
    "data.to_csv('coba4.csv', header=False, index=False)"
   ]
  },
  {
   "cell_type": "code",
   "execution_count": null,
   "metadata": {},
   "outputs": [],
   "source": []
  }
 ],
 "metadata": {
  "kernelspec": {
   "display_name": "Python 3",
   "language": "python",
   "name": "python3"
  },
  "language_info": {
   "codemirror_mode": {
    "name": "ipython",
    "version": 3
   },
   "file_extension": ".py",
   "mimetype": "text/x-python",
   "name": "python",
   "nbconvert_exporter": "python",
   "pygments_lexer": "ipython3",
   "version": "3.7.4"
  }
 },
 "nbformat": 4,
 "nbformat_minor": 2
}
